{
  "cells": [
    {
      "cell_type": "code",
      "execution_count": 22,
      "metadata": {
        "id": "llFcjNSuEqjH"
      },
      "outputs": [],
      "source": [
        "import re\n",
        "\n",
        "def clean_sanskrit_text(text):\n",
        "    text = re.sub(r'^##.*$', '', text, flags=re.MULTILINE)\n",
        "    text = re.sub(r'^#.*$', '', text, flags=re.MULTILINE)\n",
        "\n",
        "    text = re.sub(r'==.*?==', '', text)\n",
        "\n",
        "    text = re.sub(r'[a-zA-Z]', '', text)\n",
        "\n",
        "    lines = text.split('\\n')\n",
        "    cleaned_lines = []\n",
        "\n",
        "    for line in lines:\n",
        "        line = line.strip()\n",
        "        if len(line.split()) > 2:\n",
        "            cleaned_lines.append(line)\n",
        "\n",
        "    cleaned_text = '\\n'.join(cleaned_lines)\n",
        "\n",
        "    cleaned_text = re.sub(r'\\n+', '\\n', cleaned_text)\n",
        "    cleaned_text = re.sub(r' +', ' ', cleaned_text)\n",
        "\n",
        "    return cleaned_text.strip()\n",
        "\n"
      ]
    },
    {
      "cell_type": "code",
      "execution_count": 22,
      "metadata": {
        "id": "CaR6ZCdAkQlP"
      },
      "outputs": [],
      "source": []
    },
    {
      "cell_type": "code",
      "execution_count": 22,
      "metadata": {
        "id": "xVKMmFBIkR73"
      },
      "outputs": [],
      "source": []
    },
    {
      "cell_type": "code",
      "execution_count": 23,
      "metadata": {
        "id": "R7W6kUxDF2AT"
      },
      "outputs": [],
      "source": [
        "with open('sanskrit_wikipedia_full (1).txt', 'r', encoding='latin-1') as file:\n",
        "    input_text = file.read()\n",
        "\n",
        "cleaned_text = clean_sanskrit_text(input_text)\n",
        "\n",
        "with open('cleaned_output.txt', 'w', encoding='utf-8') as file:\n",
        "    file.write(cleaned_text)"
      ]
    },
    {
      "cell_type": "code",
      "execution_count": 24,
      "metadata": {
        "id": "0LVS8hZiHR_Y"
      },
      "outputs": [],
      "source": [
        "import re\n",
        "\n",
        "def clean_sanskrit_text(text):\n",
        "    text = re.sub(r'^##.*$', '', text, flags=re.MULTILINE)\n",
        "    text = re.sub(r'^#.*$', '', text, flags=re.MULTILINE)\n",
        "\n",
        "    text = re.sub(r'==.*?==', '', text)\n",
        "\n",
        "    text = re.sub(r'[a-zA-Z0-9]', '', text)\n",
        "    text = re.sub(r'॥\\d+॥', '', text)\n",
        "\n",
        "\n",
        "    text = re.sub(r'[^\\u0900-\\u097F\\s।॥,-]', '', text)\n",
        "\n",
        "    lines = text.split('\\n')\n",
        "    cleaned_lines = []\n",
        "\n",
        "    for line in lines:\n",
        "        line = line.strip()\n",
        "        devanagari_chars = sum(1 for char in line if '\\u0900' <= char <= '\\u097F')\n",
        "        if devanagari_chars >= 5:\n",
        "            cleaned_lines.append(line)\n",
        "\n",
        "    cleaned_text = '\\n'.join(cleaned_lines)\n",
        "\n",
        "    cleaned_text = re.sub(r'\\n+', '\\n', cleaned_text)\n",
        "    cleaned_text = re.sub(r' +', ' ', cleaned_text)\n",
        "\n",
        "    return cleaned_text.strip()\n"
      ]
    },
    {
      "cell_type": "code",
      "execution_count": 25,
      "metadata": {
        "id": "haJGOz2Jk5Pc",
        "colab": {
          "base_uri": "https://localhost:8080/"
        },
        "outputId": "d3da0a6a-faa7-4ca7-9197-dca06bab7a98"
      },
      "outputs": [
        {
          "output_type": "stream",
          "name": "stdout",
          "text": [
            "UTF-8 failed, trying with error replacement...\n"
          ]
        }
      ],
      "source": [
        "\n",
        "try:\n",
        "    with open('sanskrit_wikipedia_full (1).txt', 'r', encoding='utf-8') as file:\n",
        "        input_text = file.read()\n",
        "    print(\"Successfully read file with UTF-8 encoding\")\n",
        "except UnicodeDecodeError:\n",
        "    print(\"UTF-8 failed, trying with error replacement...\")\n",
        "    with open('sanskrit_wikipedia_full (1).txt', 'r', encoding='utf-8', errors='replace') as file:\n",
        "        input_text = file.read()\n"
      ]
    },
    {
      "cell_type": "code",
      "execution_count": 26,
      "metadata": {
        "colab": {
          "base_uri": "https://localhost:8080/"
        },
        "id": "WOgBtO4XkbNh",
        "outputId": "5c0f1244-c1c5-4290-8e11-56ee6b9c2b5f"
      },
      "outputs": [
        {
          "output_type": "stream",
          "name": "stdout",
          "text": [
            "Original text length: 22210897 characters\n",
            "First 200 chars: '#'\n",
            "Devanagari characters in input: 18449524\n"
          ]
        }
      ],
      "source": [
        "\n",
        "print(f\"Original text length: {len(input_text)} characters\")\n",
        "print(f\"First 200 chars: {repr(input_text[:1])}\")\n",
        "\n",
        "devanagari_before = sum(1 for char in input_text if '\\u0900' <= char <= '\\u097F')\n",
        "print(f\"Devanagari characters in input: {devanagari_before}\")\n"
      ]
    },
    {
      "cell_type": "code",
      "execution_count": 27,
      "metadata": {
        "colab": {
          "base_uri": "https://localhost:8080/"
        },
        "id": "XMRnG5Pqkctk",
        "outputId": "2e671b15-0ea5-4091-8932-5387e1d9992b"
      },
      "outputs": [
        {
          "output_type": "stream",
          "name": "stdout",
          "text": [
            "Cleaned text length: 20563694 characters\n"
          ]
        }
      ],
      "source": [
        "\n",
        "cleaned_text = clean_sanskrit_text(input_text)\n",
        "\n",
        "print(f\"Cleaned text length: {len(cleaned_text)} characters\")\n"
      ]
    },
    {
      "cell_type": "code",
      "execution_count": 28,
      "metadata": {
        "colab": {
          "base_uri": "https://localhost:8080/"
        },
        "id": "kBGJ_vehkd4s",
        "outputId": "e29f559b-3163-41db-a246-7be73aaf934b"
      },
      "outputs": [
        {
          "output_type": "stream",
          "name": "stdout",
          "text": [
            "First 500 chars of cleaned text: म\n",
            "Devanagari characters in output: 17885420\n",
            "Retention rate: 96.94%\n",
            "Cleaning complete! Output saved to cleaned_output.txt\n"
          ]
        }
      ],
      "source": [
        "\n",
        "if cleaned_text:\n",
        "    print(f\"First 500 chars of cleaned text: {cleaned_text[:1]}\")\n",
        "    devanagari_after = sum(1 for char in cleaned_text if '\\u0900' <= char <= '\\u097F')\n",
        "    print(f\"Devanagari characters in output: {devanagari_after}\")\n",
        "    print(f\"Retention rate: {(devanagari_after/devanagari_before)*100:.2f}%\")\n",
        "else:\n",
        "    print(\"Cleaned text is empty!\")\n",
        "\n",
        "with open('cleaned_output.txt', 'w', encoding='utf-8') as file:\n",
        "    file.write(cleaned_text)\n",
        "\n",
        "print(\"Cleaning complete! Output saved to cleaned_output.txt\")"
      ]
    },
    {
      "cell_type": "code",
      "execution_count": 28,
      "metadata": {
        "id": "ZXJ1n5KSb7pD"
      },
      "outputs": [],
      "source": []
    },
    {
      "cell_type": "code",
      "execution_count": 28,
      "metadata": {
        "id": "Ctv__VPZecDM"
      },
      "outputs": [],
      "source": []
    },
    {
      "cell_type": "code",
      "execution_count": 30,
      "metadata": {
        "id": "eKPPCzDEcKqq"
      },
      "outputs": [],
      "source": [
        "# !pip install  sentencepiece pyiwn heritage\n",
        "#"
      ]
    },
    {
      "cell_type": "code",
      "execution_count": 29,
      "metadata": {
        "id": "5X5g5ptgcL7h"
      },
      "outputs": [],
      "source": []
    },
    {
      "cell_type": "code",
      "execution_count": 29,
      "metadata": {
        "id": "Dev33sjclBAG"
      },
      "outputs": [],
      "source": []
    },
    {
      "cell_type": "code",
      "execution_count": 29,
      "metadata": {
        "id": "iEJSumBSLVsr"
      },
      "outputs": [],
      "source": []
    },
    {
      "cell_type": "code",
      "execution_count": 29,
      "metadata": {
        "id": "IcgglavSgxPl"
      },
      "outputs": [],
      "source": []
    }
  ],
  "metadata": {
    "accelerator": "GPU",
    "colab": {
      "gpuType": "T4",
      "provenance": []
    },
    "kernelspec": {
      "display_name": "Python 3",
      "name": "python3"
    },
    "language_info": {
      "name": "python"
    }
  },
  "nbformat": 4,
  "nbformat_minor": 0
}